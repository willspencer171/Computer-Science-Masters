{
 "cells": [
  {
   "cell_type": "markdown",
   "id": "275eb499-e0a8-47ad-9b3d-16f2164a1e6c",
   "metadata": {},
   "source": [
    "# Decision Tree Validation\n",
    "---\n",
    "> This one is all about using validation data to evaluate models that we build. The task asks us to make 3 alternative decision tree classifiers. I only know how to use the sklearn CART algorithm-based classifier so I'll look into it all"
   ]
  },
  {
   "cell_type": "code",
   "execution_count": 36,
   "id": "32cde3c9-6644-4400-9670-b608701fba25",
   "metadata": {},
   "outputs": [],
   "source": [
    "from sklearn.tree import DecisionTreeClassifier, plot_tree\n",
    "from sklearn.metrics import mean_squared_error\n",
    "from sklearn.model_selection import GridSearchCV\n",
    "import pandas as pd\n",
    "import numpy as np\n",
    "from bayes_opt import BayesianOptimization\n",
    "\n",
    "from six import StringIO\n",
    "import pydotplus\n",
    "from IPython.display import Image"
   ]
  },
  {
   "cell_type": "code",
   "execution_count": 57,
   "id": "96197be9-3f24-4c8d-8862-60586c533f1e",
   "metadata": {},
   "outputs": [],
   "source": [
    "training_data = pd.DataFrame({\"ID\": np.arange(1, 17),\n",
    "                             \"AgeofDriver\": [27, 19, 44, 31, 38, 51, 67, 35, 76, 47,49,21,29,25,55,30],\n",
    "                             \"AgeofLicence\": [2,2,21,7,13,30,49,5,1,18,3,4,7,4,32,11],\n",
    "                             \"AgeofPolicy\": [3,0,5,7,8,14,11,1,11,5,0,4,2,2,14,0],\n",
    "                             \"UnspentConvictions\": [0,0,1,0,0,1,0,0,0,1,0,0,0,0,1,0],\n",
    "                             \"1stPartyClaims\": [1,2,0,0,2,0,0,0,1,0,0,1,0,0,1,0],\n",
    "                             \"3rdPartyClaims\": [0,0,0,0,1,4,2,0,1,1,0,3,0,2,0,0],\n",
    "                             \"NoClaimsProtection\": np.array([1,1,0,0,1,0,1,0,1,0,0,1,0,1,0,1], dtype=bool),\n",
    "                             \"NoClaims\": np.array([1,0,1,1,0,0,1,1,0,0,1,0,1,1,0,0], dtype=bool),\n",
    "                             \"Experienced\": np.array([0,0,0,0,1,0,1,1,0,0,0,0,1,1,0,1], dtype=bool),\n",
    "                             \"Good\": np.array([0,0,0,0,0,0,0,1,0,0,0,0,1,0,0,1], dtype=bool)}).set_index(\"ID\")"
   ]
  },
  {
   "cell_type": "code",
   "execution_count": 58,
   "id": "322a5f3b-c9a1-40b1-b247-69b38521d42b",
   "metadata": {},
   "outputs": [],
   "source": [
    "validation_data = pd.DataFrame({\"ID\": np.arange(25, 33),\n",
    "                             \"AgeofDriver\": [24,58,35,17,37,21,77,61],\n",
    "                             \"AgeofLicence\": [2,32,4,0,17,3,1,44],\n",
    "                             \"AgeofPolicy\": [3,12,4,0,8,2,12,15],\n",
    "                             \"UnspentConvictions\": np.array([1,0,0,0,1,0,0,0], dtype=bool),\n",
    "                             \"1stPartyClaims\": [0,1,0,0,0,2,0,2],\n",
    "                             \"3rdPartyClaims\": [0,0,1,0,1,0,0,2],\n",
    "                             \"NoClaimsProtection\": np.array([0,1,0,1,0,1,1,1], dtype=bool),\n",
    "                             \"NoClaims\": np.array([0,1,0,0,0,1,1,0], dtype=bool),\n",
    "                             \"Experienced\": np.array([0,1,1,0,0,0,0,1], dtype=bool),\n",
    "                             \"Good\": np.array([0,0,0,1,0,0,0,0], dtype=bool)}).set_index(\"ID\")"
   ]
  },
  {
   "cell_type": "markdown",
   "id": "5f95b7ad-02c0-44d0-a099-84f68f2cfadf",
   "metadata": {},
   "source": [
    "### Parameter Tuning\n",
    "> Turns out I've done this before, the hyperparameters are all the options in the DecisionTreeClassifier() constructor"
   ]
  },
  {
   "cell_type": "code",
   "execution_count": 59,
   "id": "86391046-0e1f-4390-8d40-2fd65bb1f589",
   "metadata": {},
   "outputs": [
    {
     "data": {
      "text/plain": [
       "(    AgeofDriver  AgeofLicence  AgeofPolicy  UnspentConvictions  \\\n",
       " ID                                                               \n",
       " 1            27             2            3                   0   \n",
       " 2            19             2            0                   0   \n",
       " 3            44            21            5                   1   \n",
       " 4            31             7            7                   0   \n",
       " 5            38            13            8                   0   \n",
       " 6            51            30           14                   1   \n",
       " 7            67            49           11                   0   \n",
       " 8            35             5            1                   0   \n",
       " 9            76             1           11                   0   \n",
       " 10           47            18            5                   1   \n",
       " 11           49             3            0                   0   \n",
       " 12           21             4            4                   0   \n",
       " 13           29             7            2                   0   \n",
       " 14           25             4            2                   0   \n",
       " 15           55            32           14                   1   \n",
       " 16           30            11            0                   0   \n",
       " \n",
       "     1stPartyClaims  3rdPartyClaims  NoClaimsProtection  NoClaims  Experienced  \\\n",
       " ID                                                                              \n",
       " 1                1               0                True      True        False   \n",
       " 2                2               0                True     False        False   \n",
       " 3                0               0               False      True        False   \n",
       " 4                0               0               False      True        False   \n",
       " 5                2               1                True     False         True   \n",
       " 6                0               4               False     False        False   \n",
       " 7                0               2                True      True         True   \n",
       " 8                0               0               False      True         True   \n",
       " 9                1               1                True     False        False   \n",
       " 10               0               1               False     False        False   \n",
       " 11               0               0               False      True        False   \n",
       " 12               1               3                True     False        False   \n",
       " 13               0               0               False      True         True   \n",
       " 14               0               2                True      True         True   \n",
       " 15               1               0               False     False        False   \n",
       " 16               0               0                True     False         True   \n",
       " \n",
       "      Good  \n",
       " ID         \n",
       " 1   False  \n",
       " 2   False  \n",
       " 3   False  \n",
       " 4   False  \n",
       " 5   False  \n",
       " 6   False  \n",
       " 7   False  \n",
       " 8    True  \n",
       " 9   False  \n",
       " 10  False  \n",
       " 11  False  \n",
       " 12  False  \n",
       " 13   True  \n",
       " 14  False  \n",
       " 15  False  \n",
       " 16   True  ,\n",
       "     AgeofDriver  AgeofLicence  AgeofPolicy  UnspentConvictions  \\\n",
       " ID                                                               \n",
       " 25           24             2            3                True   \n",
       " 26           58            32           12               False   \n",
       " 27           35             4            4               False   \n",
       " 28           17             0            0               False   \n",
       " 29           37            17            8                True   \n",
       " 30           21             3            2               False   \n",
       " 31           77             1           12               False   \n",
       " 32           61            44           15               False   \n",
       " \n",
       "     1stPartyClaims  3rdPartyClaims  NoClaimsProtection  NoClaims  Experienced  \\\n",
       " ID                                                                              \n",
       " 25               0               0               False     False        False   \n",
       " 26               1               0                True      True         True   \n",
       " 27               0               1               False     False         True   \n",
       " 28               0               0                True     False        False   \n",
       " 29               0               1               False     False        False   \n",
       " 30               2               0                True      True        False   \n",
       " 31               0               0                True      True        False   \n",
       " 32               2               2                True     False         True   \n",
       " \n",
       "      Good  \n",
       " ID         \n",
       " 25  False  \n",
       " 26  False  \n",
       " 27  False  \n",
       " 28   True  \n",
       " 29  False  \n",
       " 30  False  \n",
       " 31  False  \n",
       " 32  False  ,\n",
       "     NoClaims  Experienced   Good\n",
       " ID                              \n",
       " 1       True        False  False\n",
       " 2      False        False  False\n",
       " 3       True        False  False\n",
       " 4       True        False  False\n",
       " 5      False         True  False\n",
       " 6      False        False  False\n",
       " 7       True         True  False\n",
       " 8       True         True   True\n",
       " 9      False        False  False\n",
       " 10     False        False  False\n",
       " 11      True        False  False\n",
       " 12     False        False  False\n",
       " 13      True         True   True\n",
       " 14      True         True  False\n",
       " 15     False        False  False\n",
       " 16     False         True   True,\n",
       "     NoClaims  Experienced   Good\n",
       " ID                              \n",
       " 25     False        False  False\n",
       " 26      True         True  False\n",
       " 27     False         True  False\n",
       " 28     False        False   True\n",
       " 29     False        False  False\n",
       " 30      True        False  False\n",
       " 31      True        False  False\n",
       " 32     False         True  False)"
      ]
     },
     "execution_count": 59,
     "metadata": {},
     "output_type": "execute_result"
    }
   ],
   "source": [
    "X_train, y_train = training_data, training_data.iloc[:, 7:]\n",
    "X_test, y_test = validation_data, validation_data.iloc[:, 7:]\n",
    "X_train, X_test, y_train, y_test"
   ]
  },
  {
   "cell_type": "code",
   "execution_count": 70,
   "id": "61d66d08-2a39-4dc7-8309-36e18d28a950",
   "metadata": {},
   "outputs": [
    {
     "name": "stdout",
     "output_type": "stream",
     "text": [
      "Best parameters: {'criterion': 'log_loss', 'max_depth': 3, 'min_samples_leaf': 1, 'min_samples_split': 3}\n",
      "[[False False False]\n",
      " [False  True  True]\n",
      " [False  True False]\n",
      " [False False False]\n",
      " [False False False]\n",
      " [ True False False]\n",
      " [ True False False]\n",
      " [ True  True False]]\n"
     ]
    }
   ],
   "source": [
    "# Define the parameter grid to tune the hyperparameters\n",
    "param_grid = {\n",
    "    'max_depth': (1, 2, 3, 5),\n",
    "    'min_samples_split': (3, 4, 5, 10),\n",
    "    'min_samples_leaf': (3, 4, 1, 2, 5),\n",
    "    'criterion': ('log_loss', 'gini', 'entropy')\n",
    "}\n",
    "\n",
    "clf = DecisionTreeClassifier(random_state=42) # Initialize a decision tree\n",
    "grid_search = GridSearchCV(estimator=clf, param_grid=param_grid)\n",
    "grid_search.fit(X_train, y_train)\n",
    "\n",
    "best_dtree_reg = grid_search.best_estimator_ # Get the best estimator from the grid search\n",
    "y_pred = best_dtree_reg.predict(X_test)\n",
    "best_params = grid_search.best_params_\n",
    "\n",
    "print(f\"Best parameters: {best_params}\\n{y_pred}\")"
   ]
  },
  {
   "cell_type": "code",
   "execution_count": 71,
   "id": "83df3161-f541-4434-8701-12454ddc151f",
   "metadata": {},
   "outputs": [
    {
     "data": {
      "text/plain": [
       "[Text(0.4090909090909091, 0.875, 'Experienced <= 0.5\\nlog_loss = 0.884\\nsamples = 16\\nvalue = [[8, 8]\\n[10, 6]\\n[13, 3]]'),\n",
       " Text(0.18181818181818182, 0.625, 'NoClaims <= 0.5\\nlog_loss = 0.324\\nsamples = 10\\nvalue = [[6, 4]\\n[10, 0]\\n[10, 0]]'),\n",
       " Text(0.29545454545454547, 0.75, 'True  '),\n",
       " Text(0.09090909090909091, 0.375, 'log_loss = 0.0\\nsamples = 6\\nvalue = [[6, 0]\\n[6, 0]\\n[6, 0]]'),\n",
       " Text(0.2727272727272727, 0.375, 'log_loss = 0.0\\nsamples = 4\\nvalue = [[0, 4]\\n[4, 0]\\n[4, 0]]'),\n",
       " Text(0.6363636363636364, 0.625, '3rdPartyClaims <= 0.5\\nlog_loss = 0.639\\nsamples = 6\\nvalue = [[2, 4]\\n[0, 6]\\n[3, 3]]'),\n",
       " Text(0.5227272727272727, 0.75, '  False'),\n",
       " Text(0.45454545454545453, 0.375, 'AgeofLicence <= 9.0\\nlog_loss = 0.306\\nsamples = 3\\nvalue = [[1, 2]\\n[0, 3]\\n[0, 3]]'),\n",
       " Text(0.36363636363636365, 0.125, 'log_loss = 0.0\\nsamples = 2\\nvalue = [[0, 2]\\n[0, 2]\\n[0, 2]]'),\n",
       " Text(0.5454545454545454, 0.125, 'log_loss = 0.0\\nsamples = 1\\nvalue = [[1, 0]\\n[0, 1]\\n[0, 1]]'),\n",
       " Text(0.8181818181818182, 0.375, '3rdPartyClaims <= 1.5\\nlog_loss = 0.306\\nsamples = 3\\nvalue = [[1, 2]\\n[0, 3]\\n[3, 0]]'),\n",
       " Text(0.7272727272727273, 0.125, 'log_loss = 0.0\\nsamples = 1\\nvalue = [[1, 0]\\n[0, 1]\\n[1, 0]]'),\n",
       " Text(0.9090909090909091, 0.125, 'log_loss = 0.0\\nsamples = 2\\nvalue = [[0, 2]\\n[0, 2]\\n[2, 0]]')]"
      ]
     },
     "execution_count": 71,
     "metadata": {},
     "output_type": "execute_result"
    },
    {
     "data": {
      "image/png": "[encoded data removed]",
      "text/plain": [
       "<Figure size 640x480 with 1 Axes>"
      ]
     },
     "metadata": {},
     "output_type": "display_data"
    }
   ],
   "source": [
    "plot_tree(clf.set_params(**best_params).fit(X_train, y_train), feature_names=X_train.columns)"
   ]
  }
 ],
 "metadata": {
  "kernelspec": {
   "display_name": "Python 3 (ipykernel)",
   "language": "python",
   "name": "python3"
  },
  "language_info": {
   "codemirror_mode": {
    "name": "ipython",
    "version": 3
   },
   "file_extension": ".py",
   "mimetype": "text/x-python",
   "name": "python",
   "nbconvert_exporter": "python",
   "pygments_lexer": "ipython3",
   "version": "3.12.5"
  }
 },
 "nbformat": 4,
 "nbformat_minor": 5
}
