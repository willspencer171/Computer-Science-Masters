{
 "cells": [
  {
   "cell_type": "markdown",
   "id": "41ba0860-fd44-4dca-a7c7-90891fcb8bc0",
   "metadata": {},
   "source": [
    "# Working on Data in Jupyter Lab\n",
    "-----\n",
    "\n",
    "Something new for me"
   ]
  },
  {
   "cell_type": "markdown",
   "id": "45c17861-c0d4-47b3-ab96-33a3c57ae08a",
   "metadata": {},
   "source": [
    "## Task 1 - Import your data"
   ]
  },
  {
   "cell_type": "markdown",
   "id": "60103ee7-9009-4af2-a3d5-ed448d5eac4e",
   "metadata": {},
   "source": [
    "### Students"
   ]
  },
  {
   "cell_type": "code",
   "execution_count": 1,
   "id": "6dc18328-4072-4988-94ea-f967a9eb503d",
   "metadata": {},
   "outputs": [],
   "source": [
    "import pandas as pd\n",
    "import numpy as np\n",
    "from sklearn.metrics.pairwise import pairwise_distances, cosine_similarity\n",
    "import re\n",
    "import matplotlib.pyplot as plt\n",
    "import nltk\n",
    "from nltk.corpus import stopwords\n",
    "try:\n",
    "    local_stopwords = stopwords.words('english')\n",
    "except LookupError:\n",
    "    nltk.download('stopwords')\n",
    "    local_stopwords = stopwords.words('english')"
   ]
  },
  {
   "cell_type": "code",
   "execution_count": 2,
   "id": "e98c01df-7227-44a4-807d-403bb1ac3f04",
   "metadata": {
    "editable": true,
    "slideshow": {
     "slide_type": ""
    },
    "tags": []
   },
   "outputs": [],
   "source": [
    "studentdf = pd.read_csv(\"../Data/StudentsPerformance.csv\")"
   ]
  },
  {
   "cell_type": "markdown",
   "id": "190eebd2-ba3e-48e4-b7a1-12c7a9bce7d6",
   "metadata": {},
   "source": [
    "### Spam"
   ]
  },
  {
   "cell_type": "code",
   "execution_count": 3,
   "id": "58d66afe-7ed9-4f2b-980c-9249efee40bd",
   "metadata": {
    "editable": true,
    "slideshow": {
     "slide_type": ""
    },
    "tags": []
   },
   "outputs": [],
   "source": [
    "spamdf = pd.read_csv(\"../Data/spam.csv\", encoding='cp1252') ## Had to change encoding"
   ]
  },
  {
   "cell_type": "markdown",
   "id": "68c84cea-4a82-46eb-9924-b85ba9044c3d",
   "metadata": {},
   "source": [
    "Reducing the extra 3 columns to the one, second variable column - messages now complete"
   ]
  },
  {
   "cell_type": "code",
   "execution_count": 4,
   "id": "673aae3d-bc62-4256-96c6-f7b5087f4227",
   "metadata": {},
   "outputs": [],
   "source": [
    "spamdf.fillna('', inplace=True)\n",
    "spamdf.v2 = spamdf.v2 + spamdf.iloc[:, 2] + spamdf.iloc[:, 3] + spamdf.iloc[:, 4]\n",
    "spamdf.drop(spamdf.columns[2:], axis=1, inplace=True)"
   ]
  },
  {
   "cell_type": "markdown",
   "id": "2f5ebee8-18c7-4588-8e34-5059dd2fcfa0",
   "metadata": {},
   "source": [
    "### Retail Sales"
   ]
  },
  {
   "cell_type": "code",
   "execution_count": 5,
   "id": "8cb63247-46f6-4104-9d0e-5ec41213d93b",
   "metadata": {},
   "outputs": [
    {
     "data": {
      "text/html": [
       "<div>\n",
       "<style scoped>\n",
       "    .dataframe tbody tr th:only-of-type {\n",
       "        vertical-align: middle;\n",
       "    }\n",
       "\n",
       "    .dataframe tbody tr th {\n",
       "        vertical-align: top;\n",
       "    }\n",
       "\n",
       "    .dataframe thead th {\n",
       "        text-align: right;\n",
       "    }\n",
       "</style>\n",
       "<table border=\"1\" class=\"dataframe\">\n",
       "  <thead>\n",
       "    <tr style=\"text-align: right;\">\n",
       "      <th></th>\n",
       "      <th>StockCode</th>\n",
       "      <th>Description</th>\n",
       "      <th>Quantity</th>\n",
       "      <th>InvoiceDate</th>\n",
       "      <th>UnitPrice</th>\n",
       "      <th>CustomerID</th>\n",
       "      <th>Country</th>\n",
       "    </tr>\n",
       "    <tr>\n",
       "      <th>InvoiceNo</th>\n",
       "      <th></th>\n",
       "      <th></th>\n",
       "      <th></th>\n",
       "      <th></th>\n",
       "      <th></th>\n",
       "      <th></th>\n",
       "      <th></th>\n",
       "    </tr>\n",
       "  </thead>\n",
       "  <tbody>\n",
       "    <tr>\n",
       "      <th>536365</th>\n",
       "      <td>85123A</td>\n",
       "      <td>WHITE HANGING HEART T-LIGHT HOLDER</td>\n",
       "      <td>6</td>\n",
       "      <td>01/12/2010 08:26</td>\n",
       "      <td>2.55</td>\n",
       "      <td>17850.0</td>\n",
       "      <td>United Kingdom</td>\n",
       "    </tr>\n",
       "    <tr>\n",
       "      <th>536365</th>\n",
       "      <td>71053</td>\n",
       "      <td>WHITE METAL LANTERN</td>\n",
       "      <td>6</td>\n",
       "      <td>01/12/2010 08:26</td>\n",
       "      <td>3.39</td>\n",
       "      <td>17850.0</td>\n",
       "      <td>United Kingdom</td>\n",
       "    </tr>\n",
       "    <tr>\n",
       "      <th>536365</th>\n",
       "      <td>84406B</td>\n",
       "      <td>CREAM CUPID HEARTS COAT HANGER</td>\n",
       "      <td>8</td>\n",
       "      <td>01/12/2010 08:26</td>\n",
       "      <td>2.75</td>\n",
       "      <td>17850.0</td>\n",
       "      <td>United Kingdom</td>\n",
       "    </tr>\n",
       "    <tr>\n",
       "      <th>536365</th>\n",
       "      <td>84029G</td>\n",
       "      <td>KNITTED UNION FLAG HOT WATER BOTTLE</td>\n",
       "      <td>6</td>\n",
       "      <td>01/12/2010 08:26</td>\n",
       "      <td>3.39</td>\n",
       "      <td>17850.0</td>\n",
       "      <td>United Kingdom</td>\n",
       "    </tr>\n",
       "    <tr>\n",
       "      <th>536365</th>\n",
       "      <td>84029E</td>\n",
       "      <td>RED WOOLLY HOTTIE WHITE HEART.</td>\n",
       "      <td>6</td>\n",
       "      <td>01/12/2010 08:26</td>\n",
       "      <td>3.39</td>\n",
       "      <td>17850.0</td>\n",
       "      <td>United Kingdom</td>\n",
       "    </tr>\n",
       "    <tr>\n",
       "      <th>...</th>\n",
       "      <td>...</td>\n",
       "      <td>...</td>\n",
       "      <td>...</td>\n",
       "      <td>...</td>\n",
       "      <td>...</td>\n",
       "      <td>...</td>\n",
       "      <td>...</td>\n",
       "    </tr>\n",
       "    <tr>\n",
       "      <th>581587</th>\n",
       "      <td>22613</td>\n",
       "      <td>PACK OF 20 SPACEBOY NAPKINS</td>\n",
       "      <td>12</td>\n",
       "      <td>09/12/2011 12:50</td>\n",
       "      <td>0.85</td>\n",
       "      <td>12680.0</td>\n",
       "      <td>France</td>\n",
       "    </tr>\n",
       "    <tr>\n",
       "      <th>581587</th>\n",
       "      <td>22899</td>\n",
       "      <td>CHILDREN'S APRON DOLLY GIRL</td>\n",
       "      <td>6</td>\n",
       "      <td>09/12/2011 12:50</td>\n",
       "      <td>2.10</td>\n",
       "      <td>12680.0</td>\n",
       "      <td>France</td>\n",
       "    </tr>\n",
       "    <tr>\n",
       "      <th>581587</th>\n",
       "      <td>23254</td>\n",
       "      <td>CHILDRENS CUTLERY DOLLY GIRL</td>\n",
       "      <td>4</td>\n",
       "      <td>09/12/2011 12:50</td>\n",
       "      <td>4.15</td>\n",
       "      <td>12680.0</td>\n",
       "      <td>France</td>\n",
       "    </tr>\n",
       "    <tr>\n",
       "      <th>581587</th>\n",
       "      <td>23255</td>\n",
       "      <td>CHILDRENS CUTLERY CIRCUS PARADE</td>\n",
       "      <td>4</td>\n",
       "      <td>09/12/2011 12:50</td>\n",
       "      <td>4.15</td>\n",
       "      <td>12680.0</td>\n",
       "      <td>France</td>\n",
       "    </tr>\n",
       "    <tr>\n",
       "      <th>581587</th>\n",
       "      <td>22138</td>\n",
       "      <td>BAKING SET 9 PIECE RETROSPOT</td>\n",
       "      <td>3</td>\n",
       "      <td>09/12/2011 12:50</td>\n",
       "      <td>4.95</td>\n",
       "      <td>12680.0</td>\n",
       "      <td>France</td>\n",
       "    </tr>\n",
       "  </tbody>\n",
       "</table>\n",
       "<p>541909 rows × 7 columns</p>\n",
       "</div>"
      ],
      "text/plain": [
       "          StockCode                          Description  Quantity  \\\n",
       "InvoiceNo                                                            \n",
       "536365       85123A   WHITE HANGING HEART T-LIGHT HOLDER         6   \n",
       "536365        71053                  WHITE METAL LANTERN         6   \n",
       "536365       84406B       CREAM CUPID HEARTS COAT HANGER         8   \n",
       "536365       84029G  KNITTED UNION FLAG HOT WATER BOTTLE         6   \n",
       "536365       84029E       RED WOOLLY HOTTIE WHITE HEART.         6   \n",
       "...             ...                                  ...       ...   \n",
       "581587        22613          PACK OF 20 SPACEBOY NAPKINS        12   \n",
       "581587        22899         CHILDREN'S APRON DOLLY GIRL          6   \n",
       "581587        23254        CHILDRENS CUTLERY DOLLY GIRL          4   \n",
       "581587        23255      CHILDRENS CUTLERY CIRCUS PARADE         4   \n",
       "581587        22138        BAKING SET 9 PIECE RETROSPOT          3   \n",
       "\n",
       "                InvoiceDate  UnitPrice  CustomerID         Country  \n",
       "InvoiceNo                                                           \n",
       "536365     01/12/2010 08:26       2.55     17850.0  United Kingdom  \n",
       "536365     01/12/2010 08:26       3.39     17850.0  United Kingdom  \n",
       "536365     01/12/2010 08:26       2.75     17850.0  United Kingdom  \n",
       "536365     01/12/2010 08:26       3.39     17850.0  United Kingdom  \n",
       "536365     01/12/2010 08:26       3.39     17850.0  United Kingdom  \n",
       "...                     ...        ...         ...             ...  \n",
       "581587     09/12/2011 12:50       0.85     12680.0          France  \n",
       "581587     09/12/2011 12:50       2.10     12680.0          France  \n",
       "581587     09/12/2011 12:50       4.15     12680.0          France  \n",
       "581587     09/12/2011 12:50       4.15     12680.0          France  \n",
       "581587     09/12/2011 12:50       4.95     12680.0          France  \n",
       "\n",
       "[541909 rows x 7 columns]"
      ]
     },
     "execution_count": 5,
     "metadata": {},
     "output_type": "execute_result"
    }
   ],
   "source": [
    "retaildf = pd.read_csv(\"../Data/Online Retail.csv\", index_col=\"InvoiceNo\")\n",
    "retaildf"
   ]
  },
  {
   "cell_type": "markdown",
   "id": "cd6ff165-e15c-4a70-afba-9cf65bf3b8a6",
   "metadata": {},
   "source": [
    "> Removing Rows with no CustomerID attached then converting to int "
   ]
  },
  {
   "cell_type": "code",
   "execution_count": 6,
   "id": "36dbf0ed-f3ad-42fe-bf1d-37915a617c53",
   "metadata": {},
   "outputs": [],
   "source": [
    "retaildf = retaildf[retaildf.CustomerID.notna()]\n",
    "retaildf.loc[:,\"CustomerID\"] = retaildf.CustomerID.astype(int)"
   ]
  },
  {
   "cell_type": "markdown",
   "id": "4f155e24-156d-4e46-be91-6310fc8bb27b",
   "metadata": {},
   "source": [
    "> Drop zero-value unit quantity and sub-0.01 unit price"
   ]
  },
  {
   "cell_type": "code",
   "execution_count": 7,
   "id": "1b26b27b-5f35-4f0d-8c80-727ec6389bd8",
   "metadata": {},
   "outputs": [],
   "source": [
    "retaildf = retaildf[retaildf.UnitPrice >= 0.01]\n",
    "retaildf = retaildf[retaildf.Quantity != 0]"
   ]
  },
  {
   "cell_type": "markdown",
   "id": "c438f3d5-9b0a-4dfb-bf5a-095bb6a123fe",
   "metadata": {},
   "source": [
    "> Some Quantity values are negative - return absolute values"
   ]
  },
  {
   "cell_type": "code",
   "execution_count": 8,
   "id": "81d754c3-686d-4483-afd3-5b6cc05b7fbd",
   "metadata": {},
   "outputs": [
    {
     "data": {
      "text/plain": [
       "<Axes: >"
      ]
     },
     "execution_count": 8,
     "metadata": {},
     "output_type": "execute_result"
    },
    {
     "data": {
      "image/png": "[encoded data removed]",
      "text/plain": [
       "<Figure size 640x480 with 1 Axes>"
      ]
     },
     "metadata": {},
     "output_type": "display_data"
    }
   ],
   "source": [
    "retaildf.Quantity = retaildf.Quantity.abs()\n",
    "retaildf.Quantity.hist()"
   ]
  },
  {
   "cell_type": "markdown",
   "id": "3fd70656-2a21-470a-b346-1da734f1ecae",
   "metadata": {},
   "source": [
    "> I don't like that there are some codes with letters and numbers :/"
   ]
  },
  {
   "cell_type": "code",
   "execution_count": 9,
   "id": "59a74494-df23-4781-9d50-722799a27523",
   "metadata": {},
   "outputs": [],
   "source": [
    "retaildf.StockCode = retaildf.StockCode.str.replace(r'\\D*?(\\d*)\\D?',\n",
    "                                                    repl= lambda x: x.group(1),\n",
    "                                                    regex=True)"
   ]
  },
  {
   "cell_type": "markdown",
   "id": "27a26926-d185-42a0-856a-61dc35c9e4b4",
   "metadata": {},
   "source": [
    "> Add column aggregating UnitPrice and Quantity"
   ]
  },
  {
   "cell_type": "code",
   "execution_count": 10,
   "id": "ed0b13cf-2ae5-40d8-adb5-8038a76665ee",
   "metadata": {},
   "outputs": [],
   "source": [
    "retaildf[\"ItemPrice\"] = retaildf.UnitPrice * retaildf.Quantity"
   ]
  },
  {
   "cell_type": "code",
   "execution_count": 11,
   "id": "8c4d4c63-8cfc-4534-b631-9706bb2bad36",
   "metadata": {},
   "outputs": [],
   "source": [
    "retaildf.InvoiceDate = pd.to_datetime(retaildf.InvoiceDate, format=\"mixed\")\n",
    "retaildf = retaildf.assign(Date=retaildf.InvoiceDate.dt.date,\n",
    "                Time=retaildf.InvoiceDate.dt.time)"
   ]
  },
  {
   "cell_type": "markdown",
   "id": "74e55bfb-b4e6-4cfc-bbaf-bcb2017e9fe1",
   "metadata": {},
   "source": [
    "> Literally just grouping by interesting variable"
   ]
  },
  {
   "cell_type": "code",
   "execution_count": 12,
   "id": "772a6f4c-5d8f-4cca-8ccd-4528a530690d",
   "metadata": {},
   "outputs": [
    {
     "data": {
      "text/plain": [
       "<Axes: xlabel='Date'>"
      ]
     },
     "execution_count": 12,
     "metadata": {},
     "output_type": "execute_result"
    },
    {
     "data": {
      "image/png": "[encoded data removed]",
      "text/plain": [
       "<Figure size 640x480 with 1 Axes>"
      ]
     },
     "metadata": {},
     "output_type": "display_data"
    }
   ],
   "source": [
    "groupbyInvoiceNo = retaildf.groupby(\"InvoiceNo\")\n",
    "groupbyCountry = retaildf.groupby(\"Country\")\n",
    "groupbyStockCode = retaildf.groupby(\"StockCode\")\n",
    "groupbyDate = retaildf.groupby(\"Date\")\n",
    "groupbyDate.ItemPrice.sum().plot()"
   ]
  },
  {
   "cell_type": "markdown",
   "id": "30be2dd1-5edf-4b9f-b01d-dcbde983acae",
   "metadata": {},
   "source": [
    "> Now that I've got a dataframe for the invoices, I can do measures of similarity based on the items, I think?"
   ]
  },
  {
   "cell_type": "code",
   "execution_count": 13,
   "id": "eb38f29f-d135-4c9b-90ef-21484140cf44",
   "metadata": {},
   "outputs": [],
   "source": [
    "invoiceItems = pd.crosstab(retaildf.index, retaildf.StockCode)"
   ]
  },
  {
   "cell_type": "code",
   "execution_count": 14,
   "id": "437b5ac7-31f7-45a4-a661-85b0fe53b594",
   "metadata": {},
   "outputs": [],
   "source": [
    "similarities = cosine_similarity(invoiceItems,\n",
    "                                 dense_output=False)"
   ]
  },
  {
   "cell_type": "code",
   "execution_count": 15,
   "id": "e6063533-ca9c-47f2-aa03-54d0e56881a3",
   "metadata": {},
   "outputs": [],
   "source": [
    "sim_values = similarities[np.triu_indices(similarities.shape[0], k=1)]# Upper triangle, excluding diagonal\n",
    "#sim_values = sim_values[sim_values > 0.5]"
   ]
  },
  {
   "cell_type": "code",
   "execution_count": 16,
   "id": "00dcfaf6-1fda-4979-85f5-c9551c8db2b8",
   "metadata": {},
   "outputs": [
    {
     "data": {
      "image/png": "[encoded data removed]",
      "text/plain": [
       "<Figure size 800x600 with 1 Axes>"
      ]
     },
     "metadata": {},
     "output_type": "display_data"
    }
   ],
   "source": [
    "# Plot histogram\n",
    "plt.figure(figsize=(8, 6))\n",
    "plt.hist(sim_values, bins=25, color=\"blue\", alpha=0.7)\n",
    "plt.title(\"Distribution of Cosine Similarity Values\")\n",
    "plt.xlabel(\"Cosine Similarity\")\n",
    "plt.ylabel(\"Frequency\")\n",
    "plt.show()"
   ]
  },
  {
   "cell_type": "raw",
   "id": "be5d0c12-ab5f-468a-aa8e-56beeffc5fba",
   "metadata": {},
   "source": [
    "# Run as code if you'd like\n",
    "\n",
    "from sklearn.manifold import TSNE\n",
    "import matplotlib.pyplot as plt\n",
    "\n",
    "# Apply t-SNE to reduce dimensionality\n",
    "tsne = TSNE(n_components=2, metric=\"jaccard\", n_iter=10000)\n",
    "tsne_results = tsne.fit_transform(1 - similarities[:500, :500])  # Using 1 - cosine similarity\n",
    "\n",
    "# Plot t-SNE results\n",
    "plt.figure(figsize=(8, 6))\n",
    "plt.scatter(tsne_results[:, 0], tsne_results[:, 1], cmap=\"coolwarm\", alpha=0.6)\n",
    "plt.title(\"t-SNE Projection of Cosine Similarity\")\n",
    "plt.show()"
   ]
  },
  {
   "cell_type": "code",
   "execution_count": 17,
   "id": "126c19a6-b3ec-49c3-b97e-f7c74c2bbb76",
   "metadata": {},
   "outputs": [],
   "source": [
    "# Determine the most common words in the description column\n",
    "# Remove split at Special Characters\n",
    "value_counts = retaildf.Description.str.lower().str.split(r\"[\\ +/,-]\").explode().value_counts()\n",
    "\n",
    "# Remove stopwords, number values and other characters like \" ' and &\n",
    "value_counts = value_counts[~(value_counts.index.str.lower().isin(local_stopwords + ['set']))]\n",
    "value_counts = value_counts[~(value_counts.index.str.lower().str.contains(r'^\\d+|^\\d*$|[&\"\\']', regex=True))]"
   ]
  },
  {
   "cell_type": "code",
   "execution_count": 18,
   "id": "83b06731-c521-481c-8aa9-90d59bcc741f",
   "metadata": {},
   "outputs": [
    {
     "name": "stdout",
     "output_type": "stream",
     "text": [
      "12.9 s ± 0 ns per loop (mean ± std. dev. of 1 run, 1 loop each)\n"
     ]
    }
   ],
   "source": [
    "%%timeit -r 1\n",
    "terms = value_counts.nlargest(50).index.to_list() # - Creates df with 50 features\n",
    "#terms = value_counts.index.str.upper().to_list() # - Creates df with many features\n",
    "terms.sort()\n",
    "\n",
    "vocabulary = pd.DataFrame({'term': terms})\n",
    "vocabulary = vocabulary.set_index('term')\n",
    "\n",
    "for term in terms:\n",
    "    vocabulary.loc[term, 'docs'] = retaildf[retaildf.Description.str.contains(re.escape(term.upper()))].index.unique().to_list()\n",
    "for term in terms:\n",
    "    vocabulary.loc[term, 'counts'] = len(vocabulary.loc[term].docs)\n",
    "\n",
    "vocabulary.counts = vocabulary.counts.astype(int)"
   ]
  },
  {
   "cell_type": "markdown",
   "id": "30568273-e5fd-4ab4-9404-ae19666bb6c2",
   "metadata": {},
   "source": [
    "> Bit slow, I think I'd like to find a way to speed this up"
   ]
  }
 ],
 "metadata": {
  "kernelspec": {
   "display_name": "Python 3 (ipykernel)",
   "language": "python",
   "name": "python3"
  },
  "language_info": {
   "codemirror_mode": {
    "name": "ipython",
    "version": 3
   },
   "file_extension": ".py",
   "mimetype": "text/x-python",
   "name": "python",
   "nbconvert_exporter": "python",
   "pygments_lexer": "ipython3",
   "version": "3.12.5"
  }
 },
 "nbformat": 4,
 "nbformat_minor": 5
}
